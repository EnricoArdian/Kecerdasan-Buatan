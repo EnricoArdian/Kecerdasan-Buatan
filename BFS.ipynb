{
  "nbformat": 4,
  "nbformat_minor": 0,
  "metadata": {
    "colab": {
      "provenance": [],
      "include_colab_link": true
    },
    "kernelspec": {
      "name": "python3",
      "display_name": "Python 3"
    },
    "language_info": {
      "name": "python"
    }
  },
  "cells": [
    {
      "cell_type": "markdown",
      "metadata": {
        "id": "view-in-github",
        "colab_type": "text"
      },
      "source": [
        "<a href=\"https://colab.research.google.com/github/EnricoArdian/Kecerdasan-Buatan/blob/main/BFS.ipynb\" target=\"_parent\"><img src=\"https://colab.research.google.com/assets/colab-badge.svg\" alt=\"Open In Colab\"/></a>"
      ]
    },
    {
      "cell_type": "markdown",
      "source": [
        "## **BASIC**"
      ],
      "metadata": {
        "id": "1dyHHLTvle_r"
      }
    },
    {
      "cell_type": "code",
      "execution_count": null,
      "metadata": {
        "colab": {
          "base_uri": "https://localhost:8080/"
        },
        "id": "vMKf3As1lXkw",
        "outputId": "8a1dbcc7-dc74-4a2b-cb64-7d13de814881"
      },
      "outputs": [
        {
          "output_type": "stream",
          "name": "stdout",
          "text": [
            "[0, 1, 2, 3, 4, 5, 6]\n"
          ]
        }
      ],
      "source": [
        "# Membuat daftar node (vertex list) // Node apa saja yang terdaftar pada list\n",
        "vertexList = [0, 1, 2, 3, 4, 5, 6]\n",
        "\n",
        "print(vertexList)"
      ]
    },
    {
      "cell_type": "code",
      "source": [
        "# Membuat daftar busur / sisi yang ada (edge list)\n",
        "edgeList = [(0,1), (0,2), (1,0), (1,3), (2,0), (2,4), (2,5), (3,1), (4,2), (4,6), (5,2), (6,4)]\n",
        "print(edgeList)"
      ],
      "metadata": {
        "colab": {
          "base_uri": "https://localhost:8080/"
        },
        "id": "1RZDvjwslt65",
        "outputId": "0be4c2c5-ad54-4e27-fbef-7b77522225b2"
      },
      "execution_count": null,
      "outputs": [
        {
          "output_type": "stream",
          "name": "stdout",
          "text": [
            "[(0, 1), (0, 2), (1, 0), (1, 3), (2, 0), (2, 4), (2, 5), (3, 1), (4, 2), (4, 6), (5, 2), (6, 4)]\n"
          ]
        }
      ]
    },
    {
      "cell_type": "code",
      "source": [
        "# Membuat sebuah variabel, fungsinya : menyimpan vertex dan busur menjadi graf\n",
        "graphs = (vertexList, edgeList)\n",
        "\n",
        "print(graphs)"
      ],
      "metadata": {
        "colab": {
          "base_uri": "https://localhost:8080/"
        },
        "id": "QKDbu4hClyNu",
        "outputId": "cda78d35-4779-4fa9-a2c3-2ec100be9a6a"
      },
      "execution_count": null,
      "outputs": [
        {
          "output_type": "stream",
          "name": "stdout",
          "text": [
            "([0, 1, 2, 3, 4, 5, 6], [(0, 1), (0, 2), (1, 0), (1, 3), (2, 0), (2, 4), (2, 5), (3, 1), (4, 2), (4, 6), (5, 2), (6, 4)])\n"
          ]
        }
      ]
    },
    {
      "cell_type": "code",
      "source": [
        "# Membuat fungsi untuk menjalankan metode pencarian BFS\n",
        "# def, nama fungsinya bfs(parameter)\n",
        "# start menentukan note awal\n",
        "def bfs(graph, start):\n",
        "    visitedList = []  # Menampung node yang sudah pernah dikunjungi\n",
        "    #kosongan, visited dimulai kosong,\n",
        "    #kenpa dibuat kosong karena untuk menampung setiap node ini.\n",
        "    queue = [start] # Antrian node yang akan dipanggil\n",
        "    adjacencyList = [[] for vertex in vertexList] # Menentukan hubugan antar node\n",
        "    #adjacencyList tetangga dari nodenya\n",
        "    #list kosongan untuk menampung dari adjacency, adjacencynya perulangan dari vertext listnya\n",
        "\n",
        "    # fill adjacencyList from graph\n",
        "    for edge in edgeList:\n",
        "        adjacencyList[edge[0]].append(edge[1])\n",
        "\n",
        "    '''\n",
        "    adjacencyList = [\n",
        "        [1,2],  // vertex 0\n",
        "        [0,3],  // vertex 1\n",
        "        [0,4,5],  // vertex 2\n",
        "        [1],  // vertex 3\n",
        "        [2,6],  // vertex 4\n",
        "        [2],  // vertex 5\n",
        "        [4]  // vertex 6\n",
        "    ] '''\n",
        "\n",
        "        # Fungsi perulangan untuk mengisi setiap node pada alur yang ditentukan sesuai metode BFS\n",
        "    while queue:\n",
        "        current = queue.pop() # Menampung node yang sedang dieksekusi (Menghapus node dalam queue dan disimpan kedalam current)\n",
        "        for neighbor in adjacencyList[current]:\n",
        "            if neighbor not in visitedList:\n",
        "                queue.insert(0,neighbor)\n",
        "        visitedList.append(current)\n",
        "    return visitedList #mengembalikan nilai\n",
        "\n",
        "print(bfs(graphs, 0))"
      ],
      "metadata": {
        "colab": {
          "base_uri": "https://localhost:8080/"
        },
        "id": "IqH13Xqdl1ds",
        "outputId": "96d370c8-fdaf-4d14-9838-4d4bae5721c2"
      },
      "execution_count": null,
      "outputs": [
        {
          "output_type": "stream",
          "name": "stdout",
          "text": [
            "[0, 1, 2, 3, 4, 5, 6]\n"
          ]
        }
      ]
    },
    {
      "cell_type": "markdown",
      "source": [
        "## **Dictionary**"
      ],
      "metadata": {
        "id": "OmqyxBZAmTQw"
      }
    },
    {
      "cell_type": "code",
      "source": [
        "#mendefinisikan graf menggunakan dictionary\n",
        "# yang di atas definisikan satu\" dari vertex, edge baru masuk ke graph\n",
        "#ynag contoh inikan kita langsung masuk buat dictordanerry\n",
        "graphs={\n",
        "        0 : [1,2], #kunci dan nilai\n",
        "        1 : [0,3],\n",
        "        3 : [1],\n",
        "        2 : [0,4,5],\n",
        "        4 : [2,6],\n",
        "        6 : [4],\n",
        "        5 : [2]\n",
        "    }\n",
        "\n",
        "def bfs(graph,start):\n",
        "    visited = []\n",
        "    queue = [start]\n",
        "\n",
        "    #current = ''\n",
        "    #neighbor = ''\n",
        "\n",
        "    while queue:\n",
        "        current = queue.pop(0)\n",
        "        if current not in visited:\n",
        "            visited.append(current)\n",
        "            neighbor = graph[current]\n",
        "            for x in neighbor:\n",
        "                queue.append(x)\n",
        "    return visited\n",
        "\n",
        "print(bfs(graphs, 1))"
      ],
      "metadata": {
        "colab": {
          "base_uri": "https://localhost:8080/"
        },
        "id": "1AlwLWXemF_6",
        "outputId": "c83552cd-0536-4016-eba3-a368c4edfcca"
      },
      "execution_count": null,
      "outputs": [
        {
          "output_type": "stream",
          "name": "stdout",
          "text": [
            "[1, 0, 3, 2, 4, 5, 6]\n"
          ]
        }
      ]
    },
    {
      "cell_type": "code",
      "source": [
        "graphs={\n",
        "        2 : [0,4,5],\n",
        "        0 : [1,2],\n",
        "        4 : [2,6],\n",
        "        5 : [2],\n",
        "        1 : [0,3],\n",
        "        6 : [4],\n",
        "        3 : [1]\n",
        "\n",
        "    }\n",
        "\n",
        "def bfs(graph,start,end):\n",
        "    queue = [start]\n",
        "    visited = []\n",
        "    current = ''\n",
        "    neighbor = ''\n",
        "\n",
        "    while queue:\n",
        "        current = queue.pop(0)\n",
        "        if current == end:\n",
        "            visited.append(current)\n",
        "            break\n",
        "        if current not in visited:\n",
        "            visited.append(current)\n",
        "            neighbor = graph[current]\n",
        "            for x in neighbor:\n",
        "                queue.append(x)\n",
        "    return print(visited)\n",
        "\n",
        "bfs(graphs, 2, 3) # Node Start = 2"
      ],
      "metadata": {
        "colab": {
          "base_uri": "https://localhost:8080/"
        },
        "id": "pJuOcSs1mwZZ",
        "outputId": "213f0540-1cb5-4972-86b1-277910ae0e79"
      },
      "execution_count": null,
      "outputs": [
        {
          "output_type": "stream",
          "name": "stdout",
          "text": [
            "[2, 0, 4, 5, 1, 6, 3]\n"
          ]
        }
      ]
    },
    {
      "cell_type": "code",
      "source": [
        "jalur = {\n",
        "    '1' : set(['2', '3']),\n",
        "    '2' : set(['1', '5', '7']),\n",
        "    '3' : set(['1', '4', '6']),\n",
        "    '4' : set(['3', '7', '9']),\n",
        "    '5' : set(['2', '8']),\n",
        "    '6' : set(['3', '4', '9']),\n",
        "    '7' : set(['2', '4', '10']),\n",
        "    '8' : set(['5', '10']),\n",
        "    '9' : set(['4', '6', '10']),\n",
        "    '10' : set(['7', '8', '9']),\n",
        "}\n",
        "\n",
        "def bfs(graf, awal, tujuan):\n",
        "  queue = [[awal]]\n",
        "  visited = set()\n",
        "\n",
        "  while queue:\n",
        "    jalur = queue.pop(0)\n",
        "    state = jalur[-1]\n",
        "\n",
        "    if state == tujuan:\n",
        "      return jalur\n",
        "\n",
        "    elif state not in visited:\n",
        "      for cabang in graf.get(state, []):\n",
        "        jalur_baru = list(jalur)\n",
        "        jalur_baru.append(cabang)\n",
        "        queue.append(jalur_baru)\n",
        "      visited.add(state)\n",
        "\n",
        "    isi = len(queue)\n",
        "    if isi == 0:\n",
        "      print(\"Tidak ditemukan\")\n",
        "\n",
        "print(\"Masukkan node awal\")\n",
        "mulai = input()\n",
        "print(\"Masukkan node tujuan\")\n",
        "selesai = input()\n",
        "\n",
        "print(\"Jalur yang dilewati: \")\n",
        "print(bfs(jalur,mulai,selesai))"
      ],
      "metadata": {
        "colab": {
          "base_uri": "https://localhost:8080/"
        },
        "id": "Ai-4Wb1p728J",
        "outputId": "13268d89-c359-4ab3-d99d-a795a315f327"
      },
      "execution_count": null,
      "outputs": [
        {
          "output_type": "stream",
          "name": "stdout",
          "text": [
            "Masukkan node awal\n",
            "1\n",
            "Masukkan node tujuan\n",
            "6\n",
            "Jalur yang dilewati: \n",
            "['1', '3', '6']\n"
          ]
        }
      ]
    },
    {
      "cell_type": "markdown",
      "source": [
        "## **Kasus**"
      ],
      "metadata": {
        "id": "uA2cvTjpB4JO"
      }
    },
    {
      "cell_type": "code",
      "source": [
        "graphs={\n",
        "        0 : [1,2],\n",
        "        1 : [0,3],\n",
        "        3 : [1],\n",
        "        2 : [0,4,5],\n",
        "        4 : [2,6],\n",
        "        6 : [4],\n",
        "        5 : [2]\n",
        "    }\n",
        "\n",
        "def bfs(graph,start,end):\n",
        "    queue = [start]\n",
        "    visited = []\n",
        "    current = \"\"\n",
        "    neighbor = ''\n",
        "\n",
        "    while queue:\n",
        "        current = queue.pop(0)\n",
        "        if current == end:\n",
        "            visited.append(current)\n",
        "            break\n",
        "        if current not in visited:\n",
        "            visited.append(current)\n",
        "            neighbor = graph[current]\n",
        "            for x in neighbor:\n",
        "                queue.append(x)\n",
        "    return print(visited)\n",
        "\n",
        "bfs(graphs, 0, 6)"
      ],
      "metadata": {
        "colab": {
          "base_uri": "https://localhost:8080/"
        },
        "id": "gQj4FsNbGMCP",
        "outputId": "c985c10a-05a2-4fd2-a18f-f2ae44ae1508"
      },
      "execution_count": null,
      "outputs": [
        {
          "output_type": "stream",
          "name": "stdout",
          "text": [
            "[0, 1, 2, 3, 4, 5, 6]\n"
          ]
        }
      ]
    }
  ]
}