{
  "cells": [
    {
      "cell_type": "markdown",
      "metadata": {
        "id": "view-in-github",
        "colab_type": "text"
      },
      "source": [
        "<a href=\"https://colab.research.google.com/github/EnricoArdian/Kecerdasan-Buatan/blob/main/Fuzzy.ipynb\" target=\"_parent\"><img src=\"https://colab.research.google.com/assets/colab-badge.svg\" alt=\"Open In Colab\"/></a>"
      ]
    },
    {
      "cell_type": "code",
      "execution_count": 4,
      "metadata": {
        "colab": {
          "base_uri": "https://localhost:8080/"
        },
        "id": "ideV94CDOVhq",
        "outputId": "fbdfa82a-131e-4919-ddac-c3182792a7ea"
      },
      "outputs": [
        {
          "output_type": "stream",
          "name": "stdout",
          "text": [
            "Collecting fuzzywuzzy\n",
            "  Downloading fuzzywuzzy-0.18.0-py2.py3-none-any.whl.metadata (4.9 kB)\n",
            "Downloading fuzzywuzzy-0.18.0-py2.py3-none-any.whl (18 kB)\n",
            "Installing collected packages: fuzzywuzzy\n",
            "Successfully installed fuzzywuzzy-0.18.0\n"
          ]
        }
      ],
      "source": [
        "pip install fuzzywuzzy"
      ]
    },
    {
      "cell_type": "code",
      "execution_count": 5,
      "metadata": {
        "colab": {
          "base_uri": "https://localhost:8080/"
        },
        "id": "PbrPBNc0dW-0",
        "outputId": "d6cd9bd8-bf0c-40e4-f1b1-81d16edc002c"
      },
      "outputs": [
        {
          "output_type": "stream",
          "name": "stderr",
          "text": [
            "/usr/local/lib/python3.11/dist-packages/fuzzywuzzy/fuzz.py:11: UserWarning: Using slow pure-python SequenceMatcher. Install python-Levenshtein to remove this warning\n",
            "  warnings.warn('Using slow pure-python SequenceMatcher. Install python-Levenshtein to remove this warning')\n"
          ]
        }
      ],
      "source": [
        "from fuzzywuzzy import fuzz"
      ]
    },
    {
      "cell_type": "code",
      "execution_count": 11,
      "metadata": {
        "id": "4yN4Var1OnXf"
      },
      "outputs": [],
      "source": [
        "from IPython.display import clear_output\n",
        "clear_output()"
      ]
    },
    {
      "cell_type": "code",
      "execution_count": null,
      "metadata": {
        "colab": {
          "background_save": true,
          "base_uri": "https://localhost:8080/"
        },
        "id": "N0A8B8xXQnA9",
        "outputId": "a2d53649-f4ec-4ca3-ce1e-49e514891385"
      },
      "outputs": [
        {
          "output_type": "stream",
          "name": "stdout",
          "text": [
            "\n",
            "==========Menu===========\n",
            "1. Ratio\n",
            "2. Partial Ratio\n",
            "3. Token Set Ratio\n",
            "4. Token Sort Ratio\n",
            "5. Lihat Data Yang Serupa\n",
            "6. Lihat Data Yang Sama (Placeholder)\n",
            "7. Keluar\n"
          ]
        }
      ],
      "source": [
        "import os\n",
        "import pandas as pd\n",
        "import numpy as np\n",
        "from fuzzywuzzy import fuzz\n",
        "\n",
        "\n",
        "def menuRatio():\n",
        "    inputPertama = input('Masukan Kata Pertama = ')\n",
        "    inputKedua = input('Masukan Kata Kedua = ')\n",
        "    ratio = fuzz.ratio(inputPertama, inputKedua)\n",
        "    print(f\"Rasio dari '{inputPertama}' dan '{inputKedua}' : {ratio}%\")\n",
        "\n",
        "\n",
        "def menuPartialRatio():\n",
        "    inputPertama = input('Masukan Kata Pertama = ')\n",
        "    inputKedua = input('Masukan Kata Kedua = ')\n",
        "    ratio = fuzz.partial_ratio(inputPertama, inputKedua)\n",
        "    print(f\"Partial Rasio dari '{inputPertama}' dan '{inputKedua}' : {ratio}%\")\n",
        "    print('Kategori :', 'Rendah' if ratio <= 50 else 'Tinggi')\n",
        "\n",
        "\n",
        "def menuTokenRatio():\n",
        "    inputPertama = input('Masukan Kata Pertama = ')\n",
        "    inputKedua = input('Masukan Kata Kedua = ')\n",
        "    ratio = fuzz.token_set_ratio(inputPertama, inputKedua)\n",
        "    print(f\"Token Set Rasio dari '{inputPertama}' dan '{inputKedua}' : {ratio}%\")\n",
        "    print('Kategori :', 'Rendah' if ratio <= 50 else 'Tinggi')\n",
        "\n",
        "\n",
        "def menuTokenSortRatio():\n",
        "    inputPertama = input('Masukan Kata Pertama = ')\n",
        "    inputKedua = input('Masukan Kata Kedua = ')\n",
        "    ratio = fuzz.token_sort_ratio(inputPertama, inputKedua)\n",
        "    print(f\"Token Sort Rasio dari '{inputPertama}' dan '{inputKedua}' : {ratio}%\")\n",
        "    if ratio <= 50:\n",
        "        print('Kategori : Rendah')\n",
        "    elif ratio <= 79.9:\n",
        "        print('Kategori : Cukup')\n",
        "    else:\n",
        "        print('Kategori : Tinggi')\n",
        "\n",
        "\n",
        "def get_ratioDataSerupa(df):\n",
        "    # Menambahkan kolom 'Similarity' untuk melihat hasil rasio antar kolom\n",
        "    df['Similarity'] = df.apply(\n",
        "        lambda row: fuzz.token_set_ratio(row['Expedia'], row['Booking.com']), axis=1\n",
        "    )\n",
        "    serupa_df = df[df['Similarity'] > 85]\n",
        "    return serupa_df\n",
        "\n",
        "\n",
        "def menu():\n",
        "    go = True\n",
        "    df = None  # Inisialisasi DataFrame untuk menu 5 dan 6\n",
        "    while go:\n",
        "        print(\"\\n==========Menu===========\")\n",
        "        print(\"1. Ratio\")\n",
        "        print(\"2. Partial Ratio\")\n",
        "        print(\"3. Token Set Ratio\")\n",
        "        print(\"4. Token Sort Ratio\")\n",
        "        print(\"5. Lihat Data Yang Serupa\")\n",
        "        print(\"6. Lihat Data Yang Sama (Placeholder)\")\n",
        "        print(\"7. Keluar\")\n",
        "\n",
        "        try:\n",
        "            pilihan = int(input(\"Pilih => \"))\n",
        "        except ValueError:\n",
        "            print(\"Masukan angka yang valid.\")\n",
        "            continue\n",
        "\n",
        "        if pilihan == 1:\n",
        "            menuRatio()\n",
        "        elif pilihan == 2:\n",
        "            menuPartialRatio()\n",
        "        elif pilihan == 3:\n",
        "            menuTokenRatio()\n",
        "        elif pilihan == 4:\n",
        "            menuTokenSortRatio()\n",
        "        elif pilihan == 5:\n",
        "            if df is None:\n",
        "                try:\n",
        "                    # Pastikan file tersedia\n",
        "                    file_path = input(\"Masukkan path file CSV: \")\n",
        "                    df = pd.read_csv(file_path)\n",
        "                except Exception as e:\n",
        "                    print(f\"Terjadi kesalahan saat membaca file: {e}\")\n",
        "                    continue\n",
        "\n",
        "            serupa_df = get_ratioDataSerupa(df)\n",
        "            print(\"\\nData yang serupa dengan Similarity > 85%:\")\n",
        "            print(serupa_df)\n",
        "        elif pilihan == 6:\n",
        "            print(\"Fitur ini belum diimplementasikan. Placeholder untuk logika tambahan.\")\n",
        "        elif pilihan == 7:\n",
        "            print(\"Keluar dari program.\")\n",
        "            go = False\n",
        "        else:\n",
        "            print(\"Pilihan tidak valid. Silakan coba lagi.\")\n",
        "\n",
        "\n",
        "if __name__ == \"__main__\":\n",
        "    menu()\n"
      ]
    }
  ],
  "metadata": {
    "colab": {
      "provenance": [],
      "include_colab_link": true
    },
    "kernelspec": {
      "display_name": "Python 3",
      "name": "python3"
    },
    "language_info": {
      "name": "python"
    }
  },
  "nbformat": 4,
  "nbformat_minor": 0
}