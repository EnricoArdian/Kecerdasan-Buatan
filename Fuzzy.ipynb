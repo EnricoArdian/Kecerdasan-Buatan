{
  "cells": [
    {
      "cell_type": "markdown",
      "metadata": {
        "id": "view-in-github",
        "colab_type": "text"
      },
      "source": [
        "<a href=\"https://colab.research.google.com/github/EnricoArdian/Kecerdasan-Buatan/blob/main/Fuzzy.ipynb\" target=\"_parent\"><img src=\"https://colab.research.google.com/assets/colab-badge.svg\" alt=\"Open In Colab\"/></a>"
      ]
    },
    {
      "cell_type": "code",
      "execution_count": null,
      "metadata": {
        "colab": {
          "base_uri": "https://localhost:8080/"
        },
        "id": "ideV94CDOVhq",
        "outputId": "94c593e3-fab3-4029-f424-37ec3ec34ddc"
      },
      "outputs": [
        {
          "name": "stdout",
          "output_type": "stream",
          "text": [
            "Collecting fuzzywuzzy\n",
            "  Downloading fuzzywuzzy-0.18.0-py2.py3-none-any.whl.metadata (4.9 kB)\n",
            "Downloading fuzzywuzzy-0.18.0-py2.py3-none-any.whl (18 kB)\n",
            "Installing collected packages: fuzzywuzzy\n",
            "Successfully installed fuzzywuzzy-0.18.0\n"
          ]
        }
      ],
      "source": [
        "pip install fuzzywuzzy"
      ]
    },
    {
      "cell_type": "code",
      "execution_count": null,
      "metadata": {
        "colab": {
          "base_uri": "https://localhost:8080/"
        },
        "id": "PbrPBNc0dW-0",
        "outputId": "5274863a-6d6f-4340-8716-8f0e450b25fe"
      },
      "outputs": [
        {
          "name": "stderr",
          "output_type": "stream",
          "text": [
            "/usr/local/lib/python3.10/dist-packages/fuzzywuzzy/fuzz.py:11: UserWarning: Using slow pure-python SequenceMatcher. Install python-Levenshtein to remove this warning\n",
            "  warnings.warn('Using slow pure-python SequenceMatcher. Install python-Levenshtein to remove this warning')\n"
          ]
        }
      ],
      "source": [
        "from fuzzywuzzy import fuzz"
      ]
    },
    {
      "cell_type": "code",
      "execution_count": 1,
      "metadata": {
        "colab": {
          "base_uri": "https://localhost:8080/",
          "height": 165
        },
        "id": "nR2eFkJvOiYP",
        "outputId": "582d1e69-5035-43e4-ccad-c2a53961747a"
      },
      "outputs": [
        {
          "output_type": "error",
          "ename": "NameError",
          "evalue": "name 'pd' is not defined",
          "traceback": [
            "\u001b[0;31m---------------------------------------------------------------------------\u001b[0m",
            "\u001b[0;31mNameError\u001b[0m                                 Traceback (most recent call last)",
            "\u001b[0;32m<ipython-input-1-1be014703591>\u001b[0m in \u001b[0;36m<cell line: 0>\u001b[0;34m()\u001b[0m\n\u001b[0;32m----> 1\u001b[0;31m \u001b[0mdf\u001b[0m \u001b[0;34m=\u001b[0m \u001b[0mpd\u001b[0m\u001b[0;34m.\u001b[0m\u001b[0mread_csv\u001b[0m\u001b[0;34m(\u001b[0m\u001b[0;34m'room_type.csv'\u001b[0m\u001b[0;34m)\u001b[0m\u001b[0;34m\u001b[0m\u001b[0;34m\u001b[0m\u001b[0m\n\u001b[0m\u001b[1;32m      2\u001b[0m \u001b[0mdf\u001b[0m\u001b[0;34m.\u001b[0m\u001b[0mhead\u001b[0m\u001b[0;34m(\u001b[0m\u001b[0;36m10\u001b[0m\u001b[0;34m)\u001b[0m\u001b[0;34m\u001b[0m\u001b[0;34m\u001b[0m\u001b[0m\n",
            "\u001b[0;31mNameError\u001b[0m: name 'pd' is not defined"
          ]
        }
      ],
      "source": [
        "df = pd.read_csv('room_type.csv')\n",
        "df.head(10)"
      ]
    },
    {
      "cell_type": "code",
      "execution_count": null,
      "metadata": {
        "id": "4yN4Var1OnXf"
      },
      "outputs": [],
      "source": [
        "from IPython.display import clear_output\n",
        "clear_output()"
      ]
    },
    {
      "cell_type": "code",
      "execution_count": null,
      "metadata": {
        "colab": {
          "background_save": true,
          "base_uri": "https://localhost:8080/"
        },
        "id": "N0A8B8xXQnA9",
        "outputId": "87cc0ac7-e54a-422c-febd-4c46c5f26f3b"
      },
      "outputs": [
        {
          "name": "stdout",
          "output_type": "stream",
          "text": [
            "\n",
            "==========Menu===========\n",
            "1. Ratio\n",
            "2. Partial Ratio\n",
            "3. Token Set Ratio\n",
            "4. Token Sort Ratio\n",
            "5. Lihat Data Yang Serupa\n",
            "6. Lihat Data Yang Sama (Placeholder)\n",
            "7. Keluar\n"
          ]
        }
      ],
      "source": [
        "import os\n",
        "import pandas as pd\n",
        "import numpy as np\n",
        "from fuzzywuzzy import fuzz\n",
        "\n",
        "\n",
        "def menuRatio():\n",
        "    inputPertama = input('Masukan Kata Pertama = ')\n",
        "    inputKedua = input('Masukan Kata Kedua = ')\n",
        "    ratio = fuzz.ratio(inputPertama, inputKedua)\n",
        "    print(f\"Rasio dari '{inputPertama}' dan '{inputKedua}' : {ratio}%\")\n",
        "\n",
        "\n",
        "def menuPartialRatio():\n",
        "    inputPertama = input('Masukan Kata Pertama = ')\n",
        "    inputKedua = input('Masukan Kata Kedua = ')\n",
        "    ratio = fuzz.partial_ratio(inputPertama, inputKedua)\n",
        "    print(f\"Partial Rasio dari '{inputPertama}' dan '{inputKedua}' : {ratio}%\")\n",
        "    print('Kategori :', 'Rendah' if ratio <= 50 else 'Tinggi')\n",
        "\n",
        "\n",
        "def menuTokenRatio():\n",
        "    inputPertama = input('Masukan Kata Pertama = ')\n",
        "    inputKedua = input('Masukan Kata Kedua = ')\n",
        "    ratio = fuzz.token_set_ratio(inputPertama, inputKedua)\n",
        "    print(f\"Token Set Rasio dari '{inputPertama}' dan '{inputKedua}' : {ratio}%\")\n",
        "    print('Kategori :', 'Rendah' if ratio <= 50 else 'Tinggi')\n",
        "\n",
        "\n",
        "def menuTokenSortRatio():\n",
        "    inputPertama = input('Masukan Kata Pertama = ')\n",
        "    inputKedua = input('Masukan Kata Kedua = ')\n",
        "    ratio = fuzz.token_sort_ratio(inputPertama, inputKedua)\n",
        "    print(f\"Token Sort Rasio dari '{inputPertama}' dan '{inputKedua}' : {ratio}%\")\n",
        "    if ratio <= 50:\n",
        "        print('Kategori : Rendah')\n",
        "    elif ratio <= 79.9:\n",
        "        print('Kategori : Cukup')\n",
        "    else:\n",
        "        print('Kategori : Tinggi')\n",
        "\n",
        "\n",
        "def get_ratioDataSerupa(df):\n",
        "    # Menambahkan kolom 'Similarity' untuk melihat hasil rasio antar kolom\n",
        "    df['Similarity'] = df.apply(\n",
        "        lambda row: fuzz.token_set_ratio(row['Expedia'], row['Booking.com']), axis=1\n",
        "    )\n",
        "    serupa_df = df[df['Similarity'] > 85]\n",
        "    return serupa_df\n",
        "\n",
        "\n",
        "def menu():\n",
        "    go = True\n",
        "    df = None  # Inisialisasi DataFrame untuk menu 5 dan 6\n",
        "    while go:\n",
        "        print(\"\\n==========Menu===========\")\n",
        "        print(\"1. Ratio\")\n",
        "        print(\"2. Partial Ratio\")\n",
        "        print(\"3. Token Set Ratio\")\n",
        "        print(\"4. Token Sort Ratio\")\n",
        "        print(\"5. Lihat Data Yang Serupa\")\n",
        "        print(\"6. Lihat Data Yang Sama (Placeholder)\")\n",
        "        print(\"7. Keluar\")\n",
        "\n",
        "        try:\n",
        "            pilihan = int(input(\"Pilih => \"))\n",
        "        except ValueError:\n",
        "            print(\"Masukan angka yang valid.\")\n",
        "            continue\n",
        "\n",
        "        if pilihan == 1:\n",
        "            menuRatio()\n",
        "        elif pilihan == 2:\n",
        "            menuPartialRatio()\n",
        "        elif pilihan == 3:\n",
        "            menuTokenRatio()\n",
        "        elif pilihan == 4:\n",
        "            menuTokenSortRatio()\n",
        "        elif pilihan == 5:\n",
        "            if df is None:\n",
        "                try:\n",
        "                    # Pastikan file tersedia\n",
        "                    file_path = input(\"Masukkan path file CSV: \")\n",
        "                    df = pd.read_csv(file_path)\n",
        "                except Exception as e:\n",
        "                    print(f\"Terjadi kesalahan saat membaca file: {e}\")\n",
        "                    continue\n",
        "\n",
        "            serupa_df = get_ratioDataSerupa(df)\n",
        "            print(\"\\nData yang serupa dengan Similarity > 85%:\")\n",
        "            print(serupa_df)\n",
        "        elif pilihan == 6:\n",
        "            print(\"Fitur ini belum diimplementasikan. Placeholder untuk logika tambahan.\")\n",
        "        elif pilihan == 7:\n",
        "            print(\"Keluar dari program.\")\n",
        "            go = False\n",
        "        else:\n",
        "            print(\"Pilihan tidak valid. Silakan coba lagi.\")\n",
        "\n",
        "\n",
        "if __name__ == \"__main__\":\n",
        "    menu()\n"
      ]
    }
  ],
  "metadata": {
    "colab": {
      "provenance": [],
      "include_colab_link": true
    },
    "kernelspec": {
      "display_name": "Python 3",
      "name": "python3"
    },
    "language_info": {
      "name": "python"
    }
  },
  "nbformat": 4,
  "nbformat_minor": 0
}