{
  "nbformat": 4,
  "nbformat_minor": 0,
  "metadata": {
    "colab": {
      "provenance": [],
      "authorship_tag": "ABX9TyN+4bwg22kIlF0RNSSSrzc4",
      "include_colab_link": true
    },
    "kernelspec": {
      "name": "python3",
      "display_name": "Python 3"
    },
    "language_info": {
      "name": "python"
    }
  },
  "cells": [
    {
      "cell_type": "markdown",
      "metadata": {
        "id": "view-in-github",
        "colab_type": "text"
      },
      "source": [
        "<a href=\"https://colab.research.google.com/github/EnricoArdian/Kecerdasan-Buatan/blob/main/Mid_Term_Test.ipynb\" target=\"_parent\"><img src=\"https://colab.research.google.com/assets/colab-badge.svg\" alt=\"Open In Colab\"/></a>"
      ]
    },
    {
      "cell_type": "markdown",
      "source": [
        "Modul 1"
      ],
      "metadata": {
        "id": "M3YLCn_proH7"
      }
    },
    {
      "cell_type": "code",
      "source": [
        "#Review nomor 5\n",
        "myvar = 'hello'\n",
        "myvar = myvar.upper()\n",
        "print(myvar)"
      ],
      "metadata": {
        "colab": {
          "base_uri": "https://localhost:8080/"
        },
        "id": "bVbFnICYrqpM",
        "outputId": "69863319-e4ce-42ad-9bd3-6c4411376366"
      },
      "execution_count": null,
      "outputs": [
        {
          "output_type": "stream",
          "name": "stdout",
          "text": [
            "HELLO\n"
          ]
        }
      ]
    },
    {
      "cell_type": "markdown",
      "source": [
        "Modul 2"
      ],
      "metadata": {
        "id": "Z-cD-n3cr1bm"
      }
    },
    {
      "cell_type": "code",
      "source": [
        "#Review nomor 1\n",
        "A = ('a', 'b', 'c')\n",
        "first_element = A[0]\n",
        "print(first_element)"
      ],
      "metadata": {
        "colab": {
          "base_uri": "https://localhost:8080/"
        },
        "id": "Ljlw2rgir7Wi",
        "outputId": "c94b263e-360a-4711-da55-22b85fdfed27"
      },
      "execution_count": null,
      "outputs": [
        {
          "output_type": "stream",
          "name": "stdout",
          "text": [
            "a\n"
          ]
        }
      ]
    },
    {
      "cell_type": "markdown",
      "source": [
        "Modul 3"
      ],
      "metadata": {
        "id": "g7WBgsaws3OZ"
      }
    },
    {
      "cell_type": "code",
      "source": [
        "#Review nomor 1\n",
        "x = 1\n",
        "if x != 1:\n",
        "    print('Hello')\n",
        "else:\n",
        "    print('Hi')\n",
        "print('Mike')"
      ],
      "metadata": {
        "colab": {
          "base_uri": "https://localhost:8080/"
        },
        "id": "Qa-cHILzs4fU",
        "outputId": "86d5f3d1-f155-4fe2-aac8-18be804a4050"
      },
      "execution_count": null,
      "outputs": [
        {
          "output_type": "stream",
          "name": "stdout",
          "text": [
            "Hi\n",
            "Mike\n"
          ]
        }
      ]
    },
    {
      "cell_type": "code",
      "source": [
        "#Review nomor 2\n",
        "A = ['1','2','3']\n",
        "\n",
        "for a in A:\n",
        "  print(2*a)"
      ],
      "metadata": {
        "colab": {
          "base_uri": "https://localhost:8080/"
        },
        "id": "BuQc7FqotAP2",
        "outputId": "532bd380-7005-4b89-a81c-052f609bba41"
      },
      "execution_count": null,
      "outputs": [
        {
          "output_type": "stream",
          "name": "stdout",
          "text": [
            "11\n",
            "22\n",
            "33\n"
          ]
        }
      ]
    },
    {
      "cell_type": "code",
      "source": [
        "#Review nomor 3\n",
        "def Delta(x):\n",
        "  if x==0:\n",
        "    y=1;\n",
        "  else:\n",
        "    y=0;\n",
        "  return(y)"
      ],
      "metadata": {
        "id": "oaLOauUutIeg"
      },
      "execution_count": null,
      "outputs": []
    },
    {
      "cell_type": "markdown",
      "source": [
        "Final Exam"
      ],
      "metadata": {
        "id": "P4Y6V43YtWvA"
      }
    },
    {
      "cell_type": "code",
      "source": [
        "#nomor 16\n",
        "x=\"Go\"\n",
        "if(x!=\"Go\"):\n",
        "  print('Stop')\n",
        "else:\n",
        "  print('Go ')\n",
        "print('Mike')"
      ],
      "metadata": {
        "colab": {
          "base_uri": "https://localhost:8080/"
        },
        "id": "NE6OMyHdtafT",
        "outputId": "366620b7-771a-4853-a875-db3496b5734e"
      },
      "execution_count": null,
      "outputs": [
        {
          "output_type": "stream",
          "name": "stdout",
          "text": [
            "Go \n",
            "Mike\n"
          ]
        }
      ]
    },
    {
      "cell_type": "code",
      "source": [
        "#nomor 17\n",
        "x=\"Go\"\n",
        "if(x==\"Go\"):\n",
        "  print('Go ')\n",
        "else:\n",
        "  print('Stop')\n",
        "print('Mike')"
      ],
      "metadata": {
        "colab": {
          "base_uri": "https://localhost:8080/"
        },
        "id": "VGUeQJAwtd-k",
        "outputId": "4031f422-fe11-4b1c-cbf2-2d65b86e609a"
      },
      "execution_count": null,
      "outputs": [
        {
          "output_type": "stream",
          "name": "stdout",
          "text": [
            "Go \n",
            "Mike\n"
          ]
        }
      ]
    },
    {
      "cell_type": "code",
      "source": [
        "#nomor 20\n",
        "A=['1','2','3']\n",
        "for a in A:\n",
        "  print(2*a)"
      ],
      "metadata": {
        "colab": {
          "base_uri": "https://localhost:8080/"
        },
        "id": "X2XjwCg_tl-4",
        "outputId": "16ab2b74-2dc7-499f-8be7-6fd1951096ad"
      },
      "execution_count": null,
      "outputs": [
        {
          "output_type": "stream",
          "name": "stdout",
          "text": [
            "11\n",
            "22\n",
            "33\n"
          ]
        }
      ]
    },
    {
      "cell_type": "code",
      "source": [
        "#nomor 21\n",
        "def Add(x,y):\n",
        "  z=y+x\n",
        "  return(y)"
      ],
      "metadata": {
        "id": "KQ7NOSXqtqPc"
      },
      "execution_count": null,
      "outputs": []
    },
    {
      "cell_type": "code",
      "source": [
        "#nomor 22\n",
        "class Points(object):\n",
        "  def __init__(self,x,y):\n",
        "    self.x=x\n",
        "    self.y=y\n",
        "  def print_point(self):\n",
        "    print('x=',self.x,'y=',self.y)"
      ],
      "metadata": {
        "id": "nkNK90E0t0C7"
      },
      "execution_count": null,
      "outputs": []
    },
    {
      "cell_type": "code",
      "source": [
        "#nomor 23\n",
        "class Points(object):\n",
        "  def __init__(self,x,y):\n",
        "    self.x=x\n",
        "    self.y=y\n",
        "  def print_point(self):\n",
        "    print('x=',self.x,' y=',self.y)\n",
        "p1=Points(1,2)\n",
        "p1.print_point()"
      ],
      "metadata": {
        "colab": {
          "base_uri": "https://localhost:8080/"
        },
        "id": "URJnhVbjt5aA",
        "outputId": "a8507abc-f492-4efa-ef50-18f92bf2507a"
      },
      "execution_count": null,
      "outputs": [
        {
          "output_type": "stream",
          "name": "stdout",
          "text": [
            "x= 1  y= 2\n"
          ]
        }
      ]
    },
    {
      "cell_type": "code",
      "source": [
        "#nomor 24\n",
        "class Points(object):\n",
        "  def __init__(self,x,y):\n",
        "    self.x=x\n",
        "    self.y=y\n",
        "  def print_point(self):\n",
        "    print('x=',self.x,' y=',self.y)\n",
        "p2=Points(1,2)\n",
        "p2.x=2\n",
        "p2.print_point()"
      ],
      "metadata": {
        "colab": {
          "base_uri": "https://localhost:8080/"
        },
        "id": "L-RI83WNuBVY",
        "outputId": "f8440fd0-1f97-44b6-c470-39900fbe30f2"
      },
      "execution_count": null,
      "outputs": [
        {
          "output_type": "stream",
          "name": "stdout",
          "text": [
            "x= 2  y= 2\n"
          ]
        }
      ]
    }
  ]
}