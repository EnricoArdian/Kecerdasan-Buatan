{
  "nbformat": 4,
  "nbformat_minor": 0,
  "metadata": {
    "colab": {
      "provenance": [],
      "authorship_tag": "ABX9TyMe4jvopil+Jstb7FLsBvVR",
      "include_colab_link": true
    },
    "kernelspec": {
      "name": "python3",
      "display_name": "Python 3"
    },
    "language_info": {
      "name": "python"
    }
  },
  "cells": [
    {
      "cell_type": "markdown",
      "metadata": {
        "id": "view-in-github",
        "colab_type": "text"
      },
      "source": [
        "<a href=\"https://colab.research.google.com/github/EnricoArdian/Kecerdasan-Buatan/blob/main/%20graph_pathfinder.ipynb\" target=\"_parent\"><img src=\"https://colab.research.google.com/assets/colab-badge.svg\" alt=\"Open In Colab\"/></a>"
      ]
    },
    {
      "cell_type": "code",
      "execution_count": null,
      "metadata": {
        "colab": {
          "base_uri": "https://localhost:8080/"
        },
        "id": "Y8LRRxTj5oKU",
        "outputId": "13388e4a-25f3-4983-8465-35a16a403998"
      },
      "outputs": [
        {
          "output_type": "stream",
          "name": "stdout",
          "text": [
            "Dari Jalur E untuk ke L: E lalu ke B lalu ke A lalu ke C lalu ke G lalu ke K lalu ke L\n"
          ]
        }
      ],
      "source": [
        "def find_path(graph, mulai, akhir, path=None):\n",
        "    if path is None:\n",
        "        path = []\n",
        "\n",
        "    path.append(mulai)\n",
        "\n",
        "    if mulai == akhir:\n",
        "        return path\n",
        "\n",
        "    if mulai not in graph:\n",
        "        return None\n",
        "\n",
        "    for neighbor in graph[mulai]:\n",
        "        if neighbor not in path:\n",
        "            new_path = find_path(graph, neighbor, akhir, path.copy())\n",
        "            if new_path is not None:\n",
        "                return new_path\n",
        "\n",
        "    return None\n",
        "\n",
        "vertices = ['A', 'B', 'C', 'D', 'E', 'F', 'G', 'H', 'I', 'J', 'K', 'L']\n",
        "edges =    [('A', 'B'), ('A', 'C'), ('B', 'A'), ('B', 'D'), ('B', 'E'), ('D', 'B'),\n",
        "            ('D', 'H'), ('E', 'B'), ('E', 'I'), ('C', 'A'), ('C', 'F'), ('C', 'G'),\n",
        "            ('F', 'C'), ('G', 'C'), ('G', 'J'), ('G', 'K'), ('J', 'G'), ('K', 'G'),\n",
        "            ('K', 'L'), ('L', 'K')]\n",
        "\n",
        "graph = {}\n",
        "for edge in edges:\n",
        "    if edge[0] not in graph:\n",
        "        graph[edge[0]] = []\n",
        "    graph[edge[0]].append(edge[1])\n",
        "\n",
        "mulai_node = 'E'\n",
        "akhir_node = 'L'\n",
        "result = find_path(graph, mulai_node, akhir_node)\n",
        "\n",
        "if result is not None:\n",
        "    print(f\"Dari Jalur {mulai_node} untuk ke {akhir_node}: {' lalu ke ' .join(result)}\")\n",
        "else:\n",
        "    print(f\"Jalurnya tidak ada dari {mulai_node} untuk ke {akhir_node}\")"
      ]
    }
  ]
}