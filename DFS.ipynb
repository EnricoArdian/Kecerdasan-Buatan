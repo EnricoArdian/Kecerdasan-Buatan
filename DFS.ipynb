{
  "nbformat": 4,
  "nbformat_minor": 0,
  "metadata": {
    "colab": {
      "provenance": [],
      "include_colab_link": true
    },
    "kernelspec": {
      "name": "python3",
      "display_name": "Python 3"
    },
    "language_info": {
      "name": "python"
    }
  },
  "cells": [
    {
      "cell_type": "markdown",
      "metadata": {
        "id": "view-in-github",
        "colab_type": "text"
      },
      "source": [
        "<a href=\"https://colab.research.google.com/github/EnricoArdian/Kecerdasan-Buatan/blob/main/DFS.ipynb\" target=\"_parent\"><img src=\"https://colab.research.google.com/assets/colab-badge.svg\" alt=\"Open In Colab\"/></a>"
      ]
    },
    {
      "cell_type": "markdown",
      "source": [
        "\n",
        "# **Menggunakan tipe data number**\n"
      ],
      "metadata": {
        "id": "LAZ8jf3hANuK"
      }
    },
    {
      "cell_type": "code",
      "execution_count": null,
      "metadata": {
        "colab": {
          "base_uri": "https://localhost:8080/"
        },
        "id": "Y53uFNzUAGQQ",
        "outputId": "75587b2c-386f-414a-ea52-ee65b6b609bc"
      },
      "outputs": [
        {
          "output_type": "stream",
          "name": "stdout",
          "text": [
            "[0, 2, 5, 4, 6, 1, 3]\n"
          ]
        }
      ],
      "source": [
        "vertexList = ['0', '1', '2', '3', '4', '5', '6']\n",
        "#Jika membaca graf dari kiri-kanan & hasil dari kanan ke kiri\n",
        "edgeList = [(0,1), (0,2), (1,0) , (1,3) , (2,0) , (2,4) , (2,5) , (3,1), (4,2) , (4,6), (5,2), (6,4)]\n",
        "#Jika membaca graf dari kanan-kiri & hasil dari kiri ke kanan\n",
        "#edgeList = [(0,2), (0,1), (1,3), (1,0), (2,5), (2,4), (2,0), (3,1), (4,6), (4,2), (5,2), (6,4)]\n",
        "graphs = (vertexList, edgeList)\n",
        "\n",
        "def dfs(graph, start):\n",
        "    vertexList, edgeList = graph\n",
        "    #dibuat list untuk menyimpan vertex yang sudah dikunjungi\n",
        "    visitedVertex = []\n",
        "    #stack diisi dengan nilai awal/start\n",
        "    stack = [start]\n",
        "    #untuk menyimpan node node yang dikunjungi\n",
        "    adjacencyList = [[] for vertex in vertexList]\n",
        "\n",
        "    #Perulangan untuk memasukkan edgelist index ke 1, dan dikelompokkan berdasarkan edgelist index ke 0\n",
        "    for edge in edgeList:\n",
        "        adjacencyList[edge[0]].append(edge[1])\n",
        "\n",
        "    while stack:\n",
        "      #nilai current untuk menghapus node yang sudah dikunjungi\n",
        "        current = stack.pop()\n",
        "        for neighbor in adjacencyList[current]:\n",
        "          #mengecek\n",
        "            if not neighbor in visitedVertex:\n",
        "                stack.append(neighbor)\n",
        "        visitedVertex.append(current)\n",
        "    return visitedVertex\n",
        "\n",
        "print(dfs(graphs, 0))"
      ]
    },
    {
      "cell_type": "markdown",
      "source": [
        "# **Menggunakan Tipe data string**"
      ],
      "metadata": {
        "id": "SpmHxB2kAN5I"
      }
    },
    {
      "cell_type": "code",
      "source": [
        "edge = {\n",
        "        '0' : ['1','2'],\n",
        "        '1' : ['0','3'],\n",
        "        '3' : ['1'],\n",
        "        '2' : ['0','4','5'],\n",
        "        '4' : ['2','6'],\n",
        "        '6' : ['4'],\n",
        "        '5' : ['2']\n",
        "}\n",
        "\n",
        "def dfs(graf, start, goal):\n",
        "    stack = [[start]]\n",
        "    visited = set()\n",
        "\n",
        "    while stack:\n",
        "        stack_len = len(stack)-1\n",
        "        edge = stack.pop(stack_len)\n",
        "        state = edge[-1]\n",
        "\n",
        "        if state == goal:\n",
        "            return edge\n",
        "        elif state not in visited:\n",
        "            for cabang in graf.get(state, []):\n",
        "                new_edge = list(edge)\n",
        "                new_edge.append(cabang)\n",
        "                stack.append(new_edge)\n",
        "\n",
        "            visited.add(state)\n",
        "\n",
        "        isi = len(stack)\n",
        "        if isi == 0:\n",
        "            print(\"Not found\")\n",
        "\n",
        "print(dfs(edge,'0','6'))"
      ],
      "metadata": {
        "colab": {
          "base_uri": "https://localhost:8080/"
        },
        "id": "SndZsO2GAc7F",
        "outputId": "2818aec1-c863-4bd0-cbd9-156cca15357c"
      },
      "execution_count": null,
      "outputs": [
        {
          "output_type": "stream",
          "name": "stdout",
          "text": [
            "['0', '2', '4', '6']\n"
          ]
        }
      ]
    }
  ]
}