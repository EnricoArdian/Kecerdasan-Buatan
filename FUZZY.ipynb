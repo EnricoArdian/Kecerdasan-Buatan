{
  "nbformat": 4,
  "nbformat_minor": 0,
  "metadata": {
    "colab": {
      "provenance": [],
      "include_colab_link": true
    },
    "kernelspec": {
      "name": "python3",
      "display_name": "Python 3"
    },
    "language_info": {
      "name": "python"
    }
  },
  "cells": [
    {
      "cell_type": "markdown",
      "metadata": {
        "id": "view-in-github",
        "colab_type": "text"
      },
      "source": [
        "<a href=\"https://colab.research.google.com/github/EnricoArdian/Kecerdasan-Buatan/blob/main/FUZZY.ipynb\" target=\"_parent\"><img src=\"https://colab.research.google.com/assets/colab-badge.svg\" alt=\"Open In Colab\"/></a>"
      ]
    },
    {
      "cell_type": "markdown",
      "source": [
        "**Install Fuzzywuzzy**"
      ],
      "metadata": {
        "id": "MsA60RHvnX-e"
      }
    },
    {
      "cell_type": "code",
      "execution_count": null,
      "metadata": {
        "colab": {
          "base_uri": "https://localhost:8080/"
        },
        "id": "QS_bF2wRbFiH",
        "outputId": "1eafbcea-01ca-4595-fca5-e6a10912ec24"
      },
      "outputs": [
        {
          "output_type": "stream",
          "name": "stdout",
          "text": [
            "Looking in indexes: https://pypi.org/simple, https://us-python.pkg.dev/colab-wheels/public/simple/\n",
            "Collecting fuzzywuzzy\n",
            "  Downloading fuzzywuzzy-0.18.0-py2.py3-none-any.whl (18 kB)\n",
            "Installing collected packages: fuzzywuzzy\n",
            "Successfully installed fuzzywuzzy-0.18.0\n"
          ]
        }
      ],
      "source": [
        "pip install fuzzywuzzy"
      ]
    },
    {
      "cell_type": "markdown",
      "source": [
        "**Import Fuzz**"
      ],
      "metadata": {
        "id": "5h9LwFWqnyeN"
      }
    },
    {
      "cell_type": "code",
      "source": [
        "from fuzzywuzzy import fuzz"
      ],
      "metadata": {
        "colab": {
          "base_uri": "https://localhost:8080/"
        },
        "id": "txEiolQrn0St",
        "outputId": "61569bbc-bf73-4ea0-dc41-59cdc3df1b50"
      },
      "execution_count": null,
      "outputs": [
        {
          "output_type": "stream",
          "name": "stderr",
          "text": [
            "/usr/local/lib/python3.9/dist-packages/fuzzywuzzy/fuzz.py:11: UserWarning: Using slow pure-python SequenceMatcher. Install python-Levenshtein to remove this warning\n",
            "  warnings.warn('Using slow pure-python SequenceMatcher. Install python-Levenshtein to remove this warning')\n"
          ]
        }
      ]
    },
    {
      "cell_type": "markdown",
      "source": [
        "**Ratio**"
      ],
      "metadata": {
        "id": "1kA1LdRcnmf8"
      }
    },
    {
      "cell_type": "code",
      "source": [
        "string1 = 'Kecerdasan Buatan'\n",
        "string2 = 'Kecerdasan buatan'\n",
        "\n",
        "rasio = fuzz.ratio(string1,string2)\n",
        "print(rasio, '%')"
      ],
      "metadata": {
        "colab": {
          "base_uri": "https://localhost:8080/"
        },
        "id": "N4QruJwknvsc",
        "outputId": "c13c65bc-f4f0-483d-c9c6-c5ccdc78a313"
      },
      "execution_count": null,
      "outputs": [
        {
          "output_type": "stream",
          "name": "stdout",
          "text": [
            "94 %\n"
          ]
        }
      ]
    },
    {
      "cell_type": "markdown",
      "source": [
        "**Partial Ratio**"
      ],
      "metadata": {
        "id": "mNFiDjXknozd"
      }
    },
    {
      "cell_type": "code",
      "source": [
        "string1 = 'Kecerdasan Buatan'\n",
        "string2 = 'kecerdasan'\n",
        "\n",
        "parsial_rasio = fuzz.partial_ratio(string1,string2)\n",
        "print(parsial_rasio, '%')"
      ],
      "metadata": {
        "colab": {
          "base_uri": "https://localhost:8080/"
        },
        "id": "y152oJMZod8E",
        "outputId": "cbc4f361-ad9f-4b89-95ba-71ea1a45d660"
      },
      "execution_count": null,
      "outputs": [
        {
          "output_type": "stream",
          "name": "stdout",
          "text": [
            "90 %\n"
          ]
        }
      ]
    },
    {
      "cell_type": "markdown",
      "source": [
        "**Token Sort Ratio**"
      ],
      "metadata": {
        "id": "t1MungXJnrTc"
      }
    },
    {
      "cell_type": "code",
      "source": [
        "kata1 = 'nama saya arios'\n",
        "kata2 = 'Arios nama saya'\n",
        "\n",
        "token_sort_rasio = fuzz.token_sort_ratio(kata1,kata2)\n",
        "print(token_sort_rasio, '%')"
      ],
      "metadata": {
        "colab": {
          "base_uri": "https://localhost:8080/"
        },
        "id": "v4UKQbuQpNQd",
        "outputId": "c761e564-cf06-48ef-a7d0-133f5a6032d4"
      },
      "execution_count": null,
      "outputs": [
        {
          "output_type": "stream",
          "name": "stdout",
          "text": [
            "100 %\n"
          ]
        }
      ]
    },
    {
      "cell_type": "markdown",
      "source": [
        "**Token Set Ratio**"
      ],
      "metadata": {
        "id": "0iuaZgR4ntv1"
      }
    },
    {
      "cell_type": "code",
      "source": [
        "kata1 = 'nama saya arios'\n",
        "kata2 = 'Arios saya Nama'\n",
        "\n",
        "token_set_rasio = fuzz.token_set_ratio(kata1, kata2)\n",
        "print(token_set_rasio, '%')"
      ],
      "metadata": {
        "colab": {
          "base_uri": "https://localhost:8080/"
        },
        "id": "WCQDWo8TqEKa",
        "outputId": "255db201-d2d2-4f2c-8992-9cd26ef2eb66"
      },
      "execution_count": null,
      "outputs": [
        {
          "output_type": "stream",
          "name": "stdout",
          "text": [
            "93 %\n"
          ]
        }
      ]
    },
    {
      "cell_type": "code",
      "source": [
        "kata1 = 'Nama saya arios'\n",
        "kata2 = 'Arios adalah halo mimo palo nama saya'\n",
        "\n",
        "print(fuzz.token_set_ratio(kata1, kata2), '%')\n",
        "token_sort_rasio = fuzz.token_sort_ratio(kata1, kata2)\n",
        "print(token_sort_rasio, '%')"
      ],
      "metadata": {
        "colab": {
          "base_uri": "https://localhost:8080/"
        },
        "id": "os-JYQQcqz4T",
        "outputId": "3f57586f-ec60-4226-a1ef-72e57d16160d"
      },
      "execution_count": null,
      "outputs": [
        {
          "output_type": "stream",
          "name": "stdout",
          "text": [
            "100 %\n",
            "58 %\n"
          ]
        }
      ]
    },
    {
      "cell_type": "markdown",
      "source": [
        "**Model Process**"
      ],
      "metadata": {
        "id": "83fPjbSZrjvs"
      }
    },
    {
      "cell_type": "code",
      "source": [
        "from fuzzywuzzy import process"
      ],
      "metadata": {
        "id": "_4Wq8pNRroh5"
      },
      "execution_count": null,
      "outputs": []
    },
    {
      "cell_type": "code",
      "source": [
        "query = 'Nama saya adalah Arios'\n",
        "pilihan = ['Nama saya Arios', 'Nama saya adalah Arios', 'Saya Arios']\n",
        "\n",
        "process.extract(query, pilihan)"
      ],
      "metadata": {
        "colab": {
          "base_uri": "https://localhost:8080/"
        },
        "id": "yaSNiGEkr1ur",
        "outputId": "d881f9d5-400e-4682-a03c-8e72d6f176a3"
      },
      "execution_count": null,
      "outputs": [
        {
          "output_type": "execute_result",
          "data": {
            "text/plain": [
              "[('Nama saya adalah Arios', 100), ('Nama saya Arios', 95), ('Saya Arios', 86)]"
            ]
          },
          "metadata": {},
          "execution_count": 16
        }
      ]
    },
    {
      "cell_type": "markdown",
      "source": [
        "**Menggunakan Dataset**"
      ],
      "metadata": {
        "id": "6mRlAf1QsmgJ"
      }
    },
    {
      "cell_type": "code",
      "source": [
        "import pandas as pd\n"
      ],
      "metadata": {
        "id": "ptPL-OpBspgR"
      },
      "execution_count": null,
      "outputs": []
    },
    {
      "cell_type": "code",
      "source": [
        "df = pd.read_csv('room_type.csv')\n",
        "df.head(10)"
      ],
      "metadata": {
        "colab": {
          "base_uri": "https://localhost:8080/",
          "height": 363
        },
        "id": "zhiP8bLeswOo",
        "outputId": "3e80f4d4-c888-403b-8fa0-c98479ce48ad"
      },
      "execution_count": null,
      "outputs": [
        {
          "output_type": "execute_result",
          "data": {
            "text/html": [
              "\n",
              "  <div id=\"df-0102c8f2-afad-4c63-b452-5f7959db04cd\">\n",
              "    <div class=\"colab-df-container\">\n",
              "      <div>\n",
              "<style scoped>\n",
              "    .dataframe tbody tr th:only-of-type {\n",
              "        vertical-align: middle;\n",
              "    }\n",
              "\n",
              "    .dataframe tbody tr th {\n",
              "        vertical-align: top;\n",
              "    }\n",
              "\n",
              "    .dataframe thead th {\n",
              "        text-align: right;\n",
              "    }\n",
              "</style>\n",
              "<table border=\"1\" class=\"dataframe\">\n",
              "  <thead>\n",
              "    <tr style=\"text-align: right;\">\n",
              "      <th></th>\n",
              "      <th>Expedia</th>\n",
              "      <th>Booking.com</th>\n",
              "    </tr>\n",
              "  </thead>\n",
              "  <tbody>\n",
              "    <tr>\n",
              "      <th>0</th>\n",
              "      <td>Deluxe Room, 1 King Bed</td>\n",
              "      <td>Deluxe King Room</td>\n",
              "    </tr>\n",
              "    <tr>\n",
              "      <th>1</th>\n",
              "      <td>Standard Room, 1 King Bed, Accessible</td>\n",
              "      <td>Standard King Roll-in Shower Accessible</td>\n",
              "    </tr>\n",
              "    <tr>\n",
              "      <th>2</th>\n",
              "      <td>Grand Corner King Room, 1 King Bed</td>\n",
              "      <td>Grand Corner King Room</td>\n",
              "    </tr>\n",
              "    <tr>\n",
              "      <th>3</th>\n",
              "      <td>Suite, 1 King Bed (Parlor)</td>\n",
              "      <td>King Parlor Suite</td>\n",
              "    </tr>\n",
              "    <tr>\n",
              "      <th>4</th>\n",
              "      <td>High-Floor Premium Room, 1 King Bed</td>\n",
              "      <td>High-Floor Premium King Room</td>\n",
              "    </tr>\n",
              "    <tr>\n",
              "      <th>5</th>\n",
              "      <td>Traditional Double Room, 2 Double Beds</td>\n",
              "      <td>Double Room with Two Double Beds</td>\n",
              "    </tr>\n",
              "    <tr>\n",
              "      <th>6</th>\n",
              "      <td>Room, 1 King Bed, Accessible</td>\n",
              "      <td>King Room - Disability Access</td>\n",
              "    </tr>\n",
              "    <tr>\n",
              "      <th>7</th>\n",
              "      <td>Deluxe Room, 1 King Bed</td>\n",
              "      <td>Deluxe King Room</td>\n",
              "    </tr>\n",
              "    <tr>\n",
              "      <th>8</th>\n",
              "      <td>Deluxe Room</td>\n",
              "      <td>Deluxe Room (Non Refundable)</td>\n",
              "    </tr>\n",
              "    <tr>\n",
              "      <th>9</th>\n",
              "      <td>Room, 2 Double Beds (19th to 25th Floors)</td>\n",
              "      <td>Two Double Beds - Location Room (19th to 25th ...</td>\n",
              "    </tr>\n",
              "  </tbody>\n",
              "</table>\n",
              "</div>\n",
              "      <button class=\"colab-df-convert\" onclick=\"convertToInteractive('df-0102c8f2-afad-4c63-b452-5f7959db04cd')\"\n",
              "              title=\"Convert this dataframe to an interactive table.\"\n",
              "              style=\"display:none;\">\n",
              "        \n",
              "  <svg xmlns=\"http://www.w3.org/2000/svg\" height=\"24px\"viewBox=\"0 0 24 24\"\n",
              "       width=\"24px\">\n",
              "    <path d=\"M0 0h24v24H0V0z\" fill=\"none\"/>\n",
              "    <path d=\"M18.56 5.44l.94 2.06.94-2.06 2.06-.94-2.06-.94-.94-2.06-.94 2.06-2.06.94zm-11 1L8.5 8.5l.94-2.06 2.06-.94-2.06-.94L8.5 2.5l-.94 2.06-2.06.94zm10 10l.94 2.06.94-2.06 2.06-.94-2.06-.94-.94-2.06-.94 2.06-2.06.94z\"/><path d=\"M17.41 7.96l-1.37-1.37c-.4-.4-.92-.59-1.43-.59-.52 0-1.04.2-1.43.59L10.3 9.45l-7.72 7.72c-.78.78-.78 2.05 0 2.83L4 21.41c.39.39.9.59 1.41.59.51 0 1.02-.2 1.41-.59l7.78-7.78 2.81-2.81c.8-.78.8-2.07 0-2.86zM5.41 20L4 18.59l7.72-7.72 1.47 1.35L5.41 20z\"/>\n",
              "  </svg>\n",
              "      </button>\n",
              "      \n",
              "  <style>\n",
              "    .colab-df-container {\n",
              "      display:flex;\n",
              "      flex-wrap:wrap;\n",
              "      gap: 12px;\n",
              "    }\n",
              "\n",
              "    .colab-df-convert {\n",
              "      background-color: #E8F0FE;\n",
              "      border: none;\n",
              "      border-radius: 50%;\n",
              "      cursor: pointer;\n",
              "      display: none;\n",
              "      fill: #1967D2;\n",
              "      height: 32px;\n",
              "      padding: 0 0 0 0;\n",
              "      width: 32px;\n",
              "    }\n",
              "\n",
              "    .colab-df-convert:hover {\n",
              "      background-color: #E2EBFA;\n",
              "      box-shadow: 0px 1px 2px rgba(60, 64, 67, 0.3), 0px 1px 3px 1px rgba(60, 64, 67, 0.15);\n",
              "      fill: #174EA6;\n",
              "    }\n",
              "\n",
              "    [theme=dark] .colab-df-convert {\n",
              "      background-color: #3B4455;\n",
              "      fill: #D2E3FC;\n",
              "    }\n",
              "\n",
              "    [theme=dark] .colab-df-convert:hover {\n",
              "      background-color: #434B5C;\n",
              "      box-shadow: 0px 1px 3px 1px rgba(0, 0, 0, 0.15);\n",
              "      filter: drop-shadow(0px 1px 2px rgba(0, 0, 0, 0.3));\n",
              "      fill: #FFFFFF;\n",
              "    }\n",
              "  </style>\n",
              "\n",
              "      <script>\n",
              "        const buttonEl =\n",
              "          document.querySelector('#df-0102c8f2-afad-4c63-b452-5f7959db04cd button.colab-df-convert');\n",
              "        buttonEl.style.display =\n",
              "          google.colab.kernel.accessAllowed ? 'block' : 'none';\n",
              "\n",
              "        async function convertToInteractive(key) {\n",
              "          const element = document.querySelector('#df-0102c8f2-afad-4c63-b452-5f7959db04cd');\n",
              "          const dataTable =\n",
              "            await google.colab.kernel.invokeFunction('convertToInteractive',\n",
              "                                                     [key], {});\n",
              "          if (!dataTable) return;\n",
              "\n",
              "          const docLinkHtml = 'Like what you see? Visit the ' +\n",
              "            '<a target=\"_blank\" href=https://colab.research.google.com/notebooks/data_table.ipynb>data table notebook</a>'\n",
              "            + ' to learn more about interactive tables.';\n",
              "          element.innerHTML = '';\n",
              "          dataTable['output_type'] = 'display_data';\n",
              "          await google.colab.output.renderOutput(dataTable, element);\n",
              "          const docLink = document.createElement('div');\n",
              "          docLink.innerHTML = docLinkHtml;\n",
              "          element.appendChild(docLink);\n",
              "        }\n",
              "      </script>\n",
              "    </div>\n",
              "  </div>\n",
              "  "
            ],
            "text/plain": [
              "                                     Expedia  \\\n",
              "0                    Deluxe Room, 1 King Bed   \n",
              "1      Standard Room, 1 King Bed, Accessible   \n",
              "2         Grand Corner King Room, 1 King Bed   \n",
              "3                 Suite, 1 King Bed (Parlor)   \n",
              "4        High-Floor Premium Room, 1 King Bed   \n",
              "5     Traditional Double Room, 2 Double Beds   \n",
              "6               Room, 1 King Bed, Accessible   \n",
              "7                    Deluxe Room, 1 King Bed   \n",
              "8                                Deluxe Room   \n",
              "9  Room, 2 Double Beds (19th to 25th Floors)   \n",
              "\n",
              "                                         Booking.com  \n",
              "0                                   Deluxe King Room  \n",
              "1            Standard King Roll-in Shower Accessible  \n",
              "2                             Grand Corner King Room  \n",
              "3                                  King Parlor Suite  \n",
              "4                       High-Floor Premium King Room  \n",
              "5                   Double Room with Two Double Beds  \n",
              "6                      King Room - Disability Access  \n",
              "7                                   Deluxe King Room  \n",
              "8                       Deluxe Room (Non Refundable)  \n",
              "9  Two Double Beds - Location Room (19th to 25th ...  "
            ]
          },
          "metadata": {},
          "execution_count": 18
        }
      ]
    },
    {
      "cell_type": "code",
      "source": [
        "#Ratio\n",
        "print(fuzz.ratio('High-Floor Premium Room, 1 King Bed', 'High-Floor Premium King Room'), '%')"
      ],
      "metadata": {
        "colab": {
          "base_uri": "https://localhost:8080/"
        },
        "id": "VNZRnXfktEAQ",
        "outputId": "e0d50db8-479d-4d88-99db-cfc0cae290c9"
      },
      "execution_count": null,
      "outputs": [
        {
          "output_type": "stream",
          "name": "stdout",
          "text": [
            "76 %\n"
          ]
        }
      ]
    },
    {
      "cell_type": "code",
      "source": [
        "#Partial Ratio\n",
        "print(fuzz.partial_ratio('High-Floor Premium Room, 1 King Bed', 'High-Floor Premium King Room'), '%')"
      ],
      "metadata": {
        "colab": {
          "base_uri": "https://localhost:8080/"
        },
        "id": "VAWb5z6VtVaa",
        "outputId": "2f3b1868-7213-4343-9ad6-5c38c4ba80a2"
      },
      "execution_count": null,
      "outputs": [
        {
          "output_type": "stream",
          "name": "stdout",
          "text": [
            "82 %\n"
          ]
        }
      ]
    },
    {
      "cell_type": "code",
      "source": [
        "#Token Sort Ratio\n",
        "print(fuzz.token_sort_ratio('High-Floor Premium Room, 1 King Bed', 'High-Floor Premium King Room'), '%')"
      ],
      "metadata": {
        "colab": {
          "base_uri": "https://localhost:8080/"
        },
        "id": "bz05QHFctf4v",
        "outputId": "a357cbe2-bcac-4d4e-bf6b-abe4c848e0e0"
      },
      "execution_count": null,
      "outputs": [
        {
          "output_type": "stream",
          "name": "stdout",
          "text": [
            "90 %\n"
          ]
        }
      ]
    },
    {
      "cell_type": "code",
      "source": [
        "#Token Set Ratio\n",
        "print(fuzz.token_set_ratio('High-Floor Premium Room, 1 King Bed', 'High-Floor Premium King Room'), '%')"
      ],
      "metadata": {
        "colab": {
          "base_uri": "https://localhost:8080/"
        },
        "id": "iJCx_h1DtnPp",
        "outputId": "69cc6501-7cc5-45c9-a511-5d50d50edc63"
      },
      "execution_count": null,
      "outputs": [
        {
          "output_type": "stream",
          "name": "stdout",
          "text": [
            "100 %\n"
          ]
        }
      ]
    },
    {
      "cell_type": "code",
      "source": [
        "def get_ratio(row):\n",
        "  name1 = row ['Expedia']\n",
        "  name2 = row ['Booking.com']\n",
        "\n",
        "  return fuzz.token_set_ratio(name1, name2)\n",
        "\n",
        "x = len(df[df.apply(get_ratio, axis=1) > 70])/len(df)\n",
        "print(x)"
      ],
      "metadata": {
        "colab": {
          "base_uri": "https://localhost:8080/"
        },
        "id": "-odVZ3ugtxPP",
        "outputId": "d46a856a-7181-4218-dfba-a0e764ffb28f"
      },
      "execution_count": null,
      "outputs": [
        {
          "output_type": "stream",
          "name": "stdout",
          "text": [
            "0.9029126213592233\n"
          ]
        }
      ]
    }
  ]
}